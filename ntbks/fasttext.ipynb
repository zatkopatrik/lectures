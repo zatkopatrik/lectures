{
 "cells": [
  {
   "cell_type": "markdown",
   "metadata": {},
   "source": [
    "# FastText\n",
    "https://fasttext.cc/docs/en/crawl-vectors.html\n",
    "- Developed by Facebook‘s AI Research team\n",
    "- Open-source library that allows to learn text representations and text classifiers\n",
    "- Pretrained embeddings for 157 different languages can be downloaded\n",
    "- For different text classification tasks on par with deep learning but a magnitude faster\n",
    "\n",
    "   + Fast (classify 0.5M sentences among 312K classes in < 1min*)\n",
    "   + Covers CEE languages\n",
    "   + Can learn words not-seen in a train data "
   ]
  },
  {
   "cell_type": "code",
   "execution_count": 4,
   "metadata": {},
   "outputs": [
    {
     "ename": "ModuleNotFoundError",
     "evalue": "No module named 'fasttext'",
     "output_type": "error",
     "traceback": [
      "\u001b[1;31m---------------------------------------------------------------------------\u001b[0m",
      "\u001b[1;31mModuleNotFoundError\u001b[0m                       Traceback (most recent call last)",
      "\u001b[1;32m<ipython-input-4-0f31a7f945ee>\u001b[0m in \u001b[0;36m<module>\u001b[1;34m\u001b[0m\n\u001b[1;32m----> 1\u001b[1;33m \u001b[1;32mimport\u001b[0m \u001b[0mfasttext\u001b[0m\u001b[1;33m\u001b[0m\u001b[1;33m\u001b[0m\u001b[0m\n\u001b[0m\u001b[0;32m      2\u001b[0m \u001b[1;32mfrom\u001b[0m \u001b[0mrandom\u001b[0m \u001b[1;32mimport\u001b[0m \u001b[0msample\u001b[0m\u001b[1;33m\u001b[0m\u001b[1;33m\u001b[0m\u001b[0m\n\u001b[0;32m      3\u001b[0m \u001b[1;32mfrom\u001b[0m \u001b[0mjoblib\u001b[0m \u001b[1;32mimport\u001b[0m \u001b[0mParallel\u001b[0m\u001b[1;33m,\u001b[0m \u001b[0mdelayed\u001b[0m\u001b[1;33m\u001b[0m\u001b[1;33m\u001b[0m\u001b[0m\n\u001b[0;32m      4\u001b[0m \u001b[1;32mfrom\u001b[0m \u001b[0mtqdm\u001b[0m \u001b[1;32mimport\u001b[0m \u001b[0mtqdm\u001b[0m\u001b[1;33m\u001b[0m\u001b[1;33m\u001b[0m\u001b[0m\n\u001b[0;32m      5\u001b[0m \u001b[1;32mfrom\u001b[0m \u001b[0mdatetime\u001b[0m \u001b[1;32mimport\u001b[0m \u001b[0mdatetime\u001b[0m \u001b[1;32mas\u001b[0m \u001b[0mdt\u001b[0m\u001b[1;33m\u001b[0m\u001b[1;33m\u001b[0m\u001b[0m\n",
      "\u001b[1;31mModuleNotFoundError\u001b[0m: No module named 'fasttext'"
     ]
    }
   ],
   "source": [
    "import fasttext\n",
    "from random import sample\n",
    "from joblib import Parallel, delayed\n",
    "from tqdm import tqdm\n",
    "from datetime import datetime as dt\n",
    "import pandas as pd\n",
    "import sys\n",
    "sys.path.insert(1, \"/home/jovyan/work/DSA/modules\")"
   ]
  },
  {
   "cell_type": "code",
   "execution_count": 34,
   "metadata": {},
   "outputs": [
    {
     "name": "stdout",
     "output_type": "stream",
     "text": [
      "time lapsed: 0:00:10.427180\n",
      "Number of tokens in the pretrained embedding file: 2000000\n"
     ]
    }
   ],
   "source": [
    "t1=dt.now()\n",
    "pretrained_vecs = \"/home/jovyan/work/DSA/data/pretrained/cc.sk.300.vec\"\n",
    "with open(pretrained_vecs, \"r\") as ins:\n",
    "    liness = []\n",
    "    for line in ins:\n",
    "        liness.append(line)\n",
    "lines = liness[1:]\n",
    "print(f\"time lapsed: {dt.now()-t1}\")\n",
    "print(\"Number of tokens in the pretrained embedding file: {}\".format(len(lines)))"
   ]
  },
  {
   "cell_type": "markdown",
   "metadata": {},
   "source": [
    "### sample of the embeddings"
   ]
  },
  {
   "cell_type": "code",
   "execution_count": 35,
   "metadata": {},
   "outputs": [
    {
     "data": {
      "text/plain": [
       "['Dorylaione 0.0137 0.0044 0.0138 -0.0023 -0.0126 -0.0306 -0.0504 -0.0057 -0.0032 0.0230 0.0122 0.0079 -0.0132 0.0062 0.0081 0.0031 0.0087 0.0135 -0.0040 0.0288 0.0020 0.0063 -0.0137 0.0112 -0.0114 -0.0325 0.0014 -0.0320 -0.0037 -0.0237 0.0203 0.0323 -0.0090 0.0070 0.0292 -0.0077 -0.0048 -0.0073 0.0009 -0.0076 -0.0344 -0.0043 -0.0131 0.0183 -0.0397 0.0122 0.0154 -0.0173 -0.0312 -0.0050 -0.0041 0.0083 -0.0077 0.0245 0.0131 0.0055 -0.0208 -0.0087 -0.0258 0.0049 0.0313 0.0086 0.0585 -0.0092 0.0196 0.0027 0.0068 0.0244 -0.0047 -0.0179 0.0488 0.0103 -0.0121 -0.0103 0.0325 -0.0217 -0.0129 -0.0281 -0.0133 0.0004 -0.0209 0.0114 -0.0108 0.0107 0.0044 0.0122 -0.0388 -0.0059 0.0191 -0.0085 -0.0293 -0.0135 -0.0029 0.0440 0.0202 0.0195 -0.0132 -0.0226 -0.0033 0.0090 -0.0130 -0.0093 -0.0213 0.0185 -0.0051 0.0185 -0.0060 -0.0122 0.0115 0.0201 -0.0082 0.0268 0.0212 -0.0003 -0.0215 -0.0309 -0.0113 0.0012 -0.0143 0.0074 0.0095 -0.0213 0.0118 0.0125 0.0185 0.0266 0.0087 -0.0314 -0.0086 -0.0010 -0.0267 0.0614 0.0110 0.0068 -0.0076 -0.0215 0.0174 0.0160 0.0058 -0.0380 0.0439 0.0154 0.0099 -0.0038 0.0087 -0.0148 -0.0058 0.0322 0.0009 -0.0018 0.0122 0.0013 0.0209 -0.0230 0.0011 -0.0180 -0.0395 -0.0020 -0.0137 0.0247 0.0185 -0.0178 0.0125 -0.0054 -0.0205 -0.0164 0.0403 0.0234 -0.0116 0.0068 -0.0049 -0.0094 0.0044 0.0139 0.0325 0.0075 -0.0156 -0.0085 -0.0239 -0.0088 0.0165 0.0079 0.0255 -0.0251 -0.0191 0.0104 -0.0015 0.0192 -0.0043 0.0303 0.0023 0.0021 0.0254 0.0031 0.0200 -0.0010 0.0015 -0.0084 0.0299 0.0236 0.0137 0.0333 -0.0060 0.0004 0.0025 0.0225 0.0516 -0.0065 0.0288 -0.0182 0.0160 -0.0176 0.0010 -0.0357 -0.0198 -0.0047 0.0026 0.0082 0.0131 -0.0190 0.0502 -0.0020 -0.0295 0.0117 -0.0191 -0.0123 -0.0070 0.0338 0.0012 0.0235 -0.0166 -0.0446 0.0143 -0.0395 0.0075 -0.0208 -0.0044 -0.0015 -0.0090 0.0231 -0.0007 0.0253 -0.0229 -0.0677 0.0383 0.0034 0.0026 0.0096 0.0068 -0.0199 -0.0003 -0.0202 -0.0024 -0.0050 0.0529 0.0173 0.0198 0.0057 -0.0112 -0.0216 -0.0042 0.0227 0.0040 0.0039 0.0037 0.0172 -0.0450 0.0340 0.0115 -0.0216 -0.0220 -0.0156 -0.0331 -0.0012 0.0124 0.0261 -0.0190 0.0029 -0.0177 0.0085 -0.0348 0.0021 0.0042 -0.0119 0.0183 -0.0277 -0.0055 -0.0351 -0.0300 -0.0040 0.0189 0.0218 0.0016 0.0159 -0.0255 0.0105 -0.0241 0.0340 -0.0042 -0.0100\\n',\n",
       " 'Fremdwort -0.0221 -0.0053 -0.0167 0.0157 0.0006 0.0094 -0.0140 0.0091 0.0241 0.0011 0.0138 0.0142 0.0182 -0.0237 0.0325 -0.0067 -0.0070 -0.0051 0.0094 0.0043 -0.0067 -0.0016 0.0149 0.0160 -0.0161 -0.0063 -0.0106 0.0088 0.0177 -0.0316 -0.0140 -0.0041 0.0066 -0.0059 0.0168 0.0010 0.0017 -0.0228 0.0335 -0.0056 0.0000 -0.0039 -0.0026 -0.0198 0.0178 -0.0138 0.0335 0.0015 -0.0192 0.0216 -0.0272 -0.0035 0.0142 -0.0189 0.0044 -0.0050 0.0055 0.0282 -0.0198 -0.0092 0.0145 0.0017 -0.0181 -0.0165 0.0198 0.0115 -0.0017 -0.0102 0.0125 -0.0188 0.0124 0.0069 0.0260 0.0076 -0.0109 -0.0356 0.0108 0.0035 -0.0189 0.0013 -0.0074 0.0188 -0.0021 0.0072 -0.0077 -0.0191 0.0032 -0.0065 0.0053 0.0201 -0.0019 -0.0226 -0.0236 0.0362 0.0327 0.0058 -0.0172 -0.0129 -0.0246 -0.0119 -0.0075 0.0003 -0.0116 0.0001 -0.0060 0.0158 -0.0035 0.0152 0.0070 -0.0097 0.0112 -0.0004 -0.0069 -0.0084 -0.0352 -0.0158 -0.0048 -0.0004 0.0190 -0.0177 -0.0145 -0.0378 -0.0204 -0.0140 -0.0067 -0.0189 0.0059 -0.0030 -0.0096 -0.0133 0.0065 -0.0072 0.0144 -0.0113 0.0051 -0.0028 0.0064 -0.0149 -0.0099 -0.0530 -0.0042 0.0182 0.0072 -0.0146 -0.0078 -0.0008 0.0047 -0.0184 -0.0020 -0.0051 0.0122 0.0059 -0.0111 0.0014 0.0080 -0.0166 -0.0073 0.0127 -0.0066 0.0309 0.0154 0.0140 -0.0055 -0.0149 -0.0426 -0.0058 -0.0214 0.0095 0.0000 -0.0022 -0.0006 0.0211 0.0343 -0.0172 0.0397 0.0034 -0.0138 -0.0101 0.0122 0.0428 0.0224 -0.0037 0.0136 0.0206 0.0005 0.0101 0.0146 -0.0093 -0.0137 0.0155 0.0012 -0.0093 0.0008 -0.0039 -0.0016 -0.0111 0.0042 -0.0021 0.0125 0.0539 0.0002 -0.0290 0.0010 0.0061 -0.0068 0.0020 -0.0185 -0.0007 0.0055 -0.0010 -0.0010 -0.0069 -0.0038 -0.0009 0.0095 0.0258 0.0018 0.0065 -0.0269 -0.0308 -0.0271 -0.0086 -0.0063 0.0132 -0.0055 -0.0056 -0.0171 -0.0018 -0.0174 0.0126 0.0056 -0.0090 -0.0096 0.0051 -0.0035 0.0026 0.0066 -0.0138 0.0150 0.0091 0.0016 -0.0106 0.0140 0.0083 -0.0280 -0.0022 -0.0286 -0.0080 0.0225 -0.0142 0.0091 -0.0065 0.0196 0.0068 0.0023 0.0184 0.0178 -0.0029 0.0051 -0.0104 -0.0051 0.0129 -0.0075 0.0049 -0.0098 -0.0030 0.0165 -0.0071 0.0177 -0.0123 0.0028 -0.0040 -0.0048 0.0050 0.0011 0.0101 -0.0296 -0.0157 0.0065 -0.0126 -0.0415 -0.0086 -0.0043 -0.0037 -0.0263 -0.0106 -0.0168 -0.0187 0.0167 0.0217 0.0016 -0.0218 0.0184 -0.0107 -0.0012 0.0018 0.0123 0.0569 -0.0162 -0.0410\\n',\n",
       " 'ikonoborectva 0.0207 -0.0004 0.0015 0.0242 0.0015 -0.0074 -0.0325 0.0110 -0.0422 -0.0235 -0.0165 0.0139 0.0354 -0.0170 0.0038 -0.0101 0.0518 0.0141 0.0198 -0.0054 0.0202 -0.0097 0.0173 -0.0096 -0.0073 -0.0012 -0.0257 0.0019 -0.0231 0.0058 -0.0004 -0.0094 -0.0272 0.0025 0.0019 -0.0001 0.0063 0.0432 0.0193 0.0037 -0.0050 -0.0196 -0.0114 -0.0078 -0.0621 -0.0461 0.0073 0.0036 0.0112 0.0018 0.0136 -0.0263 -0.0001 -0.0083 0.0120 0.0267 -0.0060 0.0038 0.0205 0.0298 0.0242 0.0180 -0.0010 0.0020 0.0224 -0.0082 -0.0164 0.0120 0.0106 0.0177 0.0534 0.0031 -0.0088 -0.0406 -0.0002 0.0246 -0.0312 -0.0095 0.0097 -0.0274 -0.0062 0.0030 -0.0240 0.0211 -0.0008 0.0075 0.0137 -0.0081 0.0334 -0.0512 -0.0177 -0.0028 -0.0234 -0.0385 -0.0290 -0.0216 -0.0237 -0.0073 0.0231 0.0293 0.0011 -0.0073 -0.0091 0.0032 0.0014 -0.0081 -0.0040 -0.0020 0.0015 -0.0088 0.0027 -0.0102 0.0175 0.0021 0.0218 -0.0163 0.0087 -0.0016 0.0131 0.0164 -0.0080 0.0086 -0.0120 -0.0030 0.0048 -0.0122 0.0069 -0.0129 0.0100 -0.0001 -0.0143 -0.0134 0.0103 -0.0017 0.0054 -0.0117 -0.0019 -0.0314 0.0003 -0.0323 -0.0035 -0.0074 -0.0105 -0.0148 -0.0010 -0.0076 -0.0049 -0.0045 0.0169 -0.0046 0.0023 -0.0157 -0.0037 -0.0021 -0.0240 -0.0180 -0.0038 -0.0055 -0.0049 -0.0085 -0.0158 0.0097 0.0107 0.0009 -0.0270 -0.0119 -0.0170 0.0386 0.0328 0.0161 0.0196 -0.0133 -0.0208 -0.0049 0.0027 0.0198 -0.0215 -0.0109 -0.0018 0.0001 0.0105 0.0123 -0.0170 0.0200 -0.0377 -0.0238 -0.0014 0.0181 0.0150 -0.0087 0.0118 0.0050 -0.0320 0.0368 0.0036 -0.0085 -0.0006 0.0366 0.0109 0.0154 -0.0066 -0.0138 0.0068 -0.0105 -0.0174 0.0060 0.0144 -0.0123 -0.0006 0.0223 -0.0014 0.0240 -0.0184 -0.0198 0.0144 -0.0199 -0.0012 0.0057 -0.0098 0.0121 0.0067 -0.0075 -0.0022 -0.0093 0.0114 -0.0146 -0.0071 -0.0097 -0.0065 0.0212 -0.0231 -0.0294 0.0079 0.0249 0.0000 0.0031 0.0106 -0.0057 -0.0021 0.0105 -0.0025 -0.0038 0.0192 -0.0570 0.0293 0.0104 -0.0081 0.0208 0.0147 -0.0212 -0.0058 0.0115 0.0159 0.0085 0.0907 -0.0118 -0.0191 0.0054 -0.0141 -0.0070 0.0165 -0.0161 -0.0051 0.0092 -0.0061 0.0150 0.0068 0.0060 -0.0121 -0.0054 -0.0071 -0.0146 0.0025 -0.0079 -0.0155 -0.0143 0.0068 0.0345 -0.0078 -0.0003 -0.0276 -0.0297 0.0232 -0.0131 -0.0027 -0.0149 0.0045 -0.0129 0.0170 -0.0309 -0.0034 -0.0015 -0.0161 0.0165 0.0954 0.0159 -0.0105 -0.0140 0.0074 0.0010\\n']"
      ]
     },
     "execution_count": 35,
     "metadata": {},
     "output_type": "execute_result"
    }
   ],
   "source": [
    "sample(lines, 3)"
   ]
  },
  {
   "cell_type": "markdown",
   "metadata": {},
   "source": [
    "## Split into words and embeddings"
   ]
  },
  {
   "cell_type": "code",
   "execution_count": 36,
   "metadata": {},
   "outputs": [],
   "source": [
    "words = [item.split(\" \", 1)[0] for item in lines]\n",
    "embeddings = [item.split(\" \", 1)[1] for item in lines]\n",
    "df_words = pd.DataFrame(words)"
   ]
  },
  {
   "cell_type": "code",
   "execution_count": 37,
   "metadata": {},
   "outputs": [
    {
     "name": "stdout",
     "output_type": "stream",
     "text": [
      "Example of the embedding for word --rád-- \n",
      "\n",
      "0.0453 0.0138 -0.0101 -0.0413 0.0318 -0.1184 0.1205 -0.0327 0.0534 0.0951 -0.2824 0.0634 0.0875 0.1518 -0.0359 0.1076 0.2341 0.0044 0.0853 0.0490 0.1575 -0.0015 -0.0517 0.1496 0.0062 -0.0703 -0.2024 0.0426 -0.0117 0.0851 -0.1008 0.1763 0.0228 0.0882 -0.1664 0.2291 -0.0945 0.0148 0.0555 0.0688 0.0573 -0.0541 0.1347 -0.0174 -0.0537 0.2537 -0.1516 0.0490 0.1578 -0.1073 0.0424 -0.0856 0.0309 0.1161 -0.0232 -0.0509 0.0356 0.0160 -0.0553 0.0784 0.1063 0.0949 0.1555 -0.0310 0.0114 -0.1448 0.0881 -0.0752 -0.0568 -0.0277 0.0671 0.0187 -0.0077 0.1648 -0.0386 -0.1120 -0.0860 0.1739 0.0031 0.0181 -0.0641 0.0639 -0.1001 -0.1341 -0.0091 0.0685 0.1307 0.0638 0.0925 -0.0004 -0.1037 -0.0504 -0.0507 -0.0000 -0.0234 0.1410 -0.0764 -0.1840 0.0727 -0.1234 -0.1230 0.0030 -0.2326 0.0154 -0.0953 -0.0852 0.0763 -0.0626 0.0829 0.0783 0.0957 -0.0339 -0.1941 -0.1587 0.0759 -0.0692 -0.0550 -0.0925 -0.0039 -0.0313 0.0802 0.0781 -0.1004 -0.0281 0.0202 0.0278 -0.0936 -0.0754 -0.0492 -0.0651 0.0858 0.1429 0.0364 0.0321 -0.0484 -0.1518 0.1623 0.0399 -0.1177 -0.1699 0.2067 0.0235 0.0954 0.0249 -0.1503 -0.1370 0.0251 -0.1002 0.0535 0.0736 -0.0373 0.0519 -0.0379 -0.0986 0.0759 -0.1294 0.1619 -0.1759 0.0266 0.1383 0.0607 0.0436 -0.0075 0.0008 0.0438 0.0072 -0.0708 0.0238 -0.0880 0.0606 0.0130 -0.0100 0.0254 -0.0066 0.0521 0.0357 0.0290 0.0593 -0.3469 -0.1411 0.0765 0.0370 0.2229 0.0009 0.0730 -0.1038 -0.1841 0.1156 -0.0285 -0.1078 0.0032 -0.0982 0.0524 0.1209 -0.0692 0.1421 -0.0496 -0.0064 0.0984 -0.0712 -0.1808 0.0530 0.1095 0.0059 0.0314 0.1391 0.0940 0.0245 0.1069 0.1027 0.0723 -0.0038 -0.0964 -0.0356 -0.0533 -0.0504 -0.0659 0.1631 -0.1435 0.0934 0.0388 -0.1668 -0.2404 0.0860 0.0183 -0.0319 0.0898 -0.1513 -0.0307 0.0302 0.0030 -0.0028 0.0373 0.0046 0.0218 0.1153 0.1315 0.1671 0.1124 0.0713 -0.1333 0.0204 -0.0350 0.0600 -0.0280 0.1719 0.0059 -0.0627 0.0648 -0.0064 0.0883 0.0567 -0.0589 -0.1081 0.0175 -0.1030 -0.1795 -0.0521 -0.2032 -0.1839 0.0563 0.0139 0.1150 -0.1037 0.0109 -0.1130 -0.0454 0.0411 -0.1544 0.1373 -0.0371 -0.0502 -0.1493 0.0138 -0.0637 0.0611 0.0308 0.0384 0.0482 0.1262 0.0372 0.0854 0.1650 -0.1801 0.0089 0.0050 -0.0525 -0.1389 -0.0672 0.1616 -0.0619 -0.1277 0.1154 0.0022 0.3453 0.0019 0.0620 0.1039 0.0603 0.0636\n",
      "\n"
     ]
    }
   ],
   "source": [
    "print(f\"Example of the embedding for word --{words[1100]}-- \\n\\n{embeddings[1100]}\")"
   ]
  },
  {
   "cell_type": "markdown",
   "metadata": {},
   "source": [
    "# do we need tolower()? - words with capital letters"
   ]
  },
  {
   "cell_type": "code",
   "execution_count": 38,
   "metadata": {},
   "outputs": [
    {
     "name": "stdout",
     "output_type": "stream",
     "text": [
      "Number of words that start with a capital letter: 915201\n"
     ]
    },
    {
     "data": {
      "text/html": [
       "<div>\n",
       "<style scoped>\n",
       "    .dataframe tbody tr th:only-of-type {\n",
       "        vertical-align: middle;\n",
       "    }\n",
       "\n",
       "    .dataframe tbody tr th {\n",
       "        vertical-align: top;\n",
       "    }\n",
       "\n",
       "    .dataframe thead th {\n",
       "        text-align: right;\n",
       "    }\n",
       "</style>\n",
       "<table border=\"1\" class=\"dataframe\">\n",
       "  <thead>\n",
       "    <tr style=\"text-align: right;\">\n",
       "      <th></th>\n",
       "      <th>0</th>\n",
       "    </tr>\n",
       "  </thead>\n",
       "  <tbody>\n",
       "    <tr>\n",
       "      <th>843706</th>\n",
       "      <td>SAIA-SCTS</td>\n",
       "    </tr>\n",
       "    <tr>\n",
       "      <th>13547</th>\n",
       "      <td>Štúr</td>\n",
       "    </tr>\n",
       "    <tr>\n",
       "      <th>1835844</th>\n",
       "      <td>Attici</td>\n",
       "    </tr>\n",
       "    <tr>\n",
       "      <th>1627542</th>\n",
       "      <td>Svalovcom</td>\n",
       "    </tr>\n",
       "    <tr>\n",
       "      <th>1466904</th>\n",
       "      <td>Saryho</td>\n",
       "    </tr>\n",
       "    <tr>\n",
       "      <th>1041706</th>\n",
       "      <td>Darabgird</td>\n",
       "    </tr>\n",
       "    <tr>\n",
       "      <th>512063</th>\n",
       "      <td>NEdá</td>\n",
       "    </tr>\n",
       "    <tr>\n",
       "      <th>1127514</th>\n",
       "      <td>Ohmes</td>\n",
       "    </tr>\n",
       "    <tr>\n",
       "      <th>187196</th>\n",
       "      <td>Murillo</td>\n",
       "    </tr>\n",
       "    <tr>\n",
       "      <th>1646870</th>\n",
       "      <td>Abunasr</td>\n",
       "    </tr>\n",
       "  </tbody>\n",
       "</table>\n",
       "</div>"
      ],
      "text/plain": [
       "                 0\n",
       "843706   SAIA-SCTS\n",
       "13547         Štúr\n",
       "1835844     Attici\n",
       "1627542  Svalovcom\n",
       "1466904     Saryho\n",
       "1041706  Darabgird\n",
       "512063        NEdá\n",
       "1127514      Ohmes\n",
       "187196     Murillo\n",
       "1646870    Abunasr"
      ]
     },
     "metadata": {},
     "output_type": "display_data"
    }
   ],
   "source": [
    "starts_capital = [word[0].isupper() for word in words]\n",
    "print(\"Number of words that start with a capital letter: {}\".format(df_words[starts_capital].shape[0]))\n",
    "display(df_words[starts_capital].sample(10))"
   ]
  },
  {
   "cell_type": "markdown",
   "metadata": {},
   "source": [
    "# Principal Components Analysis"
   ]
  },
  {
   "cell_type": "code",
   "execution_count": 39,
   "metadata": {},
   "outputs": [],
   "source": [
    "from sklearn.preprocessing import StandardScaler\n",
    "import numpy as np\n",
    "from sklearn.decomposition import PCA\n",
    "import re\n",
    "import matplotlib.pyplot as plt"
   ]
  },
  {
   "cell_type": "markdown",
   "metadata": {},
   "source": [
    "## subset some groups of words - futbal, hokej, banka, elektro"
   ]
  },
  {
   "cell_type": "code",
   "execution_count": 40,
   "metadata": {},
   "outputs": [],
   "source": [
    "indices_futbal = [i for i, s in enumerate(words) if 'futbal' in s]\n",
    "words_futbal = [words[i] for i in indices_futbal]\n",
    "\n",
    "indices_hokej = [i for i, s in enumerate(words) if 'hokej' in s]\n",
    "words_hokej = [words[i] for i in indices_hokej]\n",
    "\n",
    "indices_banka = [i for i, s in enumerate(words) if 'banka' in s]\n",
    "words_banka = [words[i] for i in indices_banka]\n",
    "\n",
    "indices_auto = [i for i, s in enumerate(words) if 'elektro' in s]\n",
    "words_auto = [words[i] for i in indices_auto]"
   ]
  },
  {
   "cell_type": "code",
   "execution_count": 41,
   "metadata": {},
   "outputs": [
    {
     "data": {
      "text/html": [
       "<div>\n",
       "<style scoped>\n",
       "    .dataframe tbody tr th:only-of-type {\n",
       "        vertical-align: middle;\n",
       "    }\n",
       "\n",
       "    .dataframe tbody tr th {\n",
       "        vertical-align: top;\n",
       "    }\n",
       "\n",
       "    .dataframe thead th {\n",
       "        text-align: right;\n",
       "    }\n",
       "</style>\n",
       "<table border=\"1\" class=\"dataframe\">\n",
       "  <thead>\n",
       "    <tr style=\"text-align: right;\">\n",
       "      <th></th>\n",
       "      <th>words</th>\n",
       "      <th>category</th>\n",
       "    </tr>\n",
       "  </thead>\n",
       "  <tbody>\n",
       "    <tr>\n",
       "      <th>0</th>\n",
       "      <td>futbalista</td>\n",
       "      <td>futbal</td>\n",
       "    </tr>\n",
       "    <tr>\n",
       "      <th>1</th>\n",
       "      <td>futbalový</td>\n",
       "      <td>futbal</td>\n",
       "    </tr>\n",
       "    <tr>\n",
       "      <th>2</th>\n",
       "      <td>futbal</td>\n",
       "      <td>futbal</td>\n",
       "    </tr>\n",
       "    <tr>\n",
       "      <th>3</th>\n",
       "      <td>futbalové</td>\n",
       "      <td>futbal</td>\n",
       "    </tr>\n",
       "    <tr>\n",
       "      <th>4</th>\n",
       "      <td>futbale</td>\n",
       "      <td>futbal</td>\n",
       "    </tr>\n",
       "    <tr>\n",
       "      <th>...</th>\n",
       "      <td>...</td>\n",
       "      <td>...</td>\n",
       "    </tr>\n",
       "    <tr>\n",
       "      <th>1136</th>\n",
       "      <td>elektrogravitácia</td>\n",
       "      <td>elektro</td>\n",
       "    </tr>\n",
       "    <tr>\n",
       "      <th>1137</th>\n",
       "      <td>elektronenoptischen</td>\n",
       "      <td>elektro</td>\n",
       "    </tr>\n",
       "    <tr>\n",
       "      <th>1138</th>\n",
       "      <td>elektrooxidácii</td>\n",
       "      <td>elektro</td>\n",
       "    </tr>\n",
       "    <tr>\n",
       "      <th>1139</th>\n",
       "      <td>elektroreaktor</td>\n",
       "      <td>elektro</td>\n",
       "    </tr>\n",
       "    <tr>\n",
       "      <th>1140</th>\n",
       "      <td>elektrolýzou.Na</td>\n",
       "      <td>elektro</td>\n",
       "    </tr>\n",
       "  </tbody>\n",
       "</table>\n",
       "<p>1141 rows × 2 columns</p>\n",
       "</div>"
      ],
      "text/plain": [
       "                    words category\n",
       "0              futbalista   futbal\n",
       "1               futbalový   futbal\n",
       "2                  futbal   futbal\n",
       "3               futbalové   futbal\n",
       "4                 futbale   futbal\n",
       "...                   ...      ...\n",
       "1136    elektrogravitácia  elektro\n",
       "1137  elektronenoptischen  elektro\n",
       "1138      elektrooxidácii  elektro\n",
       "1139       elektroreaktor  elektro\n",
       "1140      elektrolýzou.Na  elektro\n",
       "\n",
       "[1141 rows x 2 columns]"
      ]
     },
     "execution_count": 41,
     "metadata": {},
     "output_type": "execute_result"
    }
   ],
   "source": [
    "indices = [indices_futbal, indices_hokej, indices_banka, indices_auto]\n",
    "words_selected = [words_futbal, words_hokej, words_banka, words_auto]\n",
    "categories = [[\"futbal\"]*len(words_futbal), [\"hokej\"]*len(words_hokej), [\"banka\"]*len(words_banka), [\"elektro\"]*len(words_auto)]\n",
    "indices_flat = [j for i in indices for j in i]\n",
    "words_flat = [j for i in words_selected for j in i]\n",
    "categories_flat = [j for i in categories for j in i]\n",
    "\n",
    "words_all = pd.DataFrame(words_flat, columns = [\"words\"])\n",
    "words_all['category'] = categories_flat\n",
    "words_all"
   ]
  },
  {
   "cell_type": "markdown",
   "metadata": {},
   "source": [
    "## subset only relevant embeddings"
   ]
  },
  {
   "cell_type": "code",
   "execution_count": 42,
   "metadata": {},
   "outputs": [],
   "source": [
    "embs_selected_ = [embeddings[i].split(\" \") for i in indices_flat]\n",
    "embs_selected = pd.DataFrame(embs_selected_)"
   ]
  },
  {
   "cell_type": "markdown",
   "metadata": {},
   "source": [
    "### standardize\n",
    "\n",
    "- scale data first because PCA is effected by scale\n",
    "- mean(embeddings) = 0 \n",
    "- var(embeddings) = 1"
   ]
  },
  {
   "cell_type": "code",
   "execution_count": 43,
   "metadata": {},
   "outputs": [],
   "source": [
    "embs_scaled = StandardScaler().fit_transform(embs_selected)"
   ]
  },
  {
   "cell_type": "code",
   "execution_count": 44,
   "metadata": {},
   "outputs": [],
   "source": [
    "# np.array(embeddings[1100])\n",
    "pca = PCA(n_components=2)\n",
    "principalComponents = pca.fit_transform(embs_selected)\n",
    "principalDf = pd.DataFrame(data = principalComponents\n",
    "             , columns = ['principal component 1', 'principal component 2'])"
   ]
  },
  {
   "cell_type": "code",
   "execution_count": 45,
   "metadata": {},
   "outputs": [
    {
     "data": {
      "text/html": [
       "<div>\n",
       "<style scoped>\n",
       "    .dataframe tbody tr th:only-of-type {\n",
       "        vertical-align: middle;\n",
       "    }\n",
       "\n",
       "    .dataframe tbody tr th {\n",
       "        vertical-align: top;\n",
       "    }\n",
       "\n",
       "    .dataframe thead th {\n",
       "        text-align: right;\n",
       "    }\n",
       "</style>\n",
       "<table border=\"1\" class=\"dataframe\">\n",
       "  <thead>\n",
       "    <tr style=\"text-align: right;\">\n",
       "      <th></th>\n",
       "      <th>principal component 1</th>\n",
       "      <th>principal component 2</th>\n",
       "      <th>words</th>\n",
       "      <th>category</th>\n",
       "    </tr>\n",
       "  </thead>\n",
       "  <tbody>\n",
       "    <tr>\n",
       "      <th>0</th>\n",
       "      <td>0.274249</td>\n",
       "      <td>0.044904</td>\n",
       "      <td>futbalista</td>\n",
       "      <td>futbal</td>\n",
       "    </tr>\n",
       "    <tr>\n",
       "      <th>1</th>\n",
       "      <td>0.291915</td>\n",
       "      <td>-0.021881</td>\n",
       "      <td>futbalový</td>\n",
       "      <td>futbal</td>\n",
       "    </tr>\n",
       "    <tr>\n",
       "      <th>2</th>\n",
       "      <td>0.457690</td>\n",
       "      <td>-0.102908</td>\n",
       "      <td>futbal</td>\n",
       "      <td>futbal</td>\n",
       "    </tr>\n",
       "    <tr>\n",
       "      <th>3</th>\n",
       "      <td>0.279145</td>\n",
       "      <td>-0.067261</td>\n",
       "      <td>futbalové</td>\n",
       "      <td>futbal</td>\n",
       "    </tr>\n",
       "    <tr>\n",
       "      <th>4</th>\n",
       "      <td>0.397929</td>\n",
       "      <td>-0.107996</td>\n",
       "      <td>futbale</td>\n",
       "      <td>futbal</td>\n",
       "    </tr>\n",
       "    <tr>\n",
       "      <th>...</th>\n",
       "      <td>...</td>\n",
       "      <td>...</td>\n",
       "      <td>...</td>\n",
       "      <td>...</td>\n",
       "    </tr>\n",
       "    <tr>\n",
       "      <th>1136</th>\n",
       "      <td>-0.060489</td>\n",
       "      <td>0.045699</td>\n",
       "      <td>elektrogravitácia</td>\n",
       "      <td>elektro</td>\n",
       "    </tr>\n",
       "    <tr>\n",
       "      <th>1137</th>\n",
       "      <td>-0.044439</td>\n",
       "      <td>0.041530</td>\n",
       "      <td>elektronenoptischen</td>\n",
       "      <td>elektro</td>\n",
       "    </tr>\n",
       "    <tr>\n",
       "      <th>1138</th>\n",
       "      <td>-0.024262</td>\n",
       "      <td>0.018628</td>\n",
       "      <td>elektrooxidácii</td>\n",
       "      <td>elektro</td>\n",
       "    </tr>\n",
       "    <tr>\n",
       "      <th>1139</th>\n",
       "      <td>-0.038849</td>\n",
       "      <td>0.001024</td>\n",
       "      <td>elektroreaktor</td>\n",
       "      <td>elektro</td>\n",
       "    </tr>\n",
       "    <tr>\n",
       "      <th>1140</th>\n",
       "      <td>-0.063429</td>\n",
       "      <td>-0.012170</td>\n",
       "      <td>elektrolýzou.Na</td>\n",
       "      <td>elektro</td>\n",
       "    </tr>\n",
       "  </tbody>\n",
       "</table>\n",
       "<p>1141 rows × 4 columns</p>\n",
       "</div>"
      ],
      "text/plain": [
       "      principal component 1  principal component 2                words  \\\n",
       "0                  0.274249               0.044904           futbalista   \n",
       "1                  0.291915              -0.021881            futbalový   \n",
       "2                  0.457690              -0.102908               futbal   \n",
       "3                  0.279145              -0.067261            futbalové   \n",
       "4                  0.397929              -0.107996              futbale   \n",
       "...                     ...                    ...                  ...   \n",
       "1136              -0.060489               0.045699    elektrogravitácia   \n",
       "1137              -0.044439               0.041530  elektronenoptischen   \n",
       "1138              -0.024262               0.018628      elektrooxidácii   \n",
       "1139              -0.038849               0.001024       elektroreaktor   \n",
       "1140              -0.063429              -0.012170      elektrolýzou.Na   \n",
       "\n",
       "     category  \n",
       "0      futbal  \n",
       "1      futbal  \n",
       "2      futbal  \n",
       "3      futbal  \n",
       "4      futbal  \n",
       "...       ...  \n",
       "1136  elektro  \n",
       "1137  elektro  \n",
       "1138  elektro  \n",
       "1139  elektro  \n",
       "1140  elektro  \n",
       "\n",
       "[1141 rows x 4 columns]"
      ]
     },
     "execution_count": 45,
     "metadata": {},
     "output_type": "execute_result"
    }
   ],
   "source": [
    "finalDf = pd.concat([principalDf, words_all], axis = 1)\n",
    "finalDf"
   ]
  },
  {
   "cell_type": "code",
   "execution_count": 46,
   "metadata": {},
   "outputs": [
    {
     "data": {
      "image/png": "[encoded data removed]",
      "text/plain": [
       "<Figure size 576x576 with 1 Axes>"
      ]
     },
     "metadata": {
      "needs_background": "light"
     },
     "output_type": "display_data"
    }
   ],
   "source": [
    "fig = plt.figure(figsize = (8,8))\n",
    "ax = fig.add_subplot(1,1,1) \n",
    "ax.set_xlabel('Principal Component 1', fontsize = 15)\n",
    "ax.set_ylabel('Principal Component 2', fontsize = 15)\n",
    "ax.set_title('2 component PCA', fontsize = 20)\n",
    "targets = [\"futbal\", \"hokej\", \"banka\", \"elektro\"]\n",
    "colors = ['r', 'g', 'b', \"y\"]\n",
    "for target, color in zip(targets,colors):\n",
    "    indicesToKeep = finalDf['category'] == target\n",
    "    ax.scatter(finalDf.loc[indicesToKeep, 'principal component 1']\n",
    "               , finalDf.loc[indicesToKeep, 'principal component 2']\n",
    "               , c = color\n",
    "               , s = 50)\n",
    "ax.legend(targets)\n",
    "ax.grid()"
   ]
  },
  {
   "cell_type": "code",
   "execution_count": 47,
   "metadata": {},
   "outputs": [
    {
     "data": {
      "text/html": [
       "<div>\n",
       "<style scoped>\n",
       "    .dataframe tbody tr th:only-of-type {\n",
       "        vertical-align: middle;\n",
       "    }\n",
       "\n",
       "    .dataframe tbody tr th {\n",
       "        vertical-align: top;\n",
       "    }\n",
       "\n",
       "    .dataframe thead th {\n",
       "        text-align: right;\n",
       "    }\n",
       "</style>\n",
       "<table border=\"1\" class=\"dataframe\">\n",
       "  <thead>\n",
       "    <tr style=\"text-align: right;\">\n",
       "      <th></th>\n",
       "      <th>principal component 1</th>\n",
       "      <th>principal component 2</th>\n",
       "      <th>words</th>\n",
       "      <th>category</th>\n",
       "    </tr>\n",
       "  </thead>\n",
       "  <tbody>\n",
       "    <tr>\n",
       "      <th>266</th>\n",
       "      <td>0.095727</td>\n",
       "      <td>0.698689</td>\n",
       "      <td>banka</td>\n",
       "      <td>banka</td>\n",
       "    </tr>\n",
       "  </tbody>\n",
       "</table>\n",
       "</div>"
      ],
      "text/plain": [
       "     principal component 1  principal component 2  words category\n",
       "266               0.095727               0.698689  banka    banka"
      ]
     },
     "execution_count": 47,
     "metadata": {},
     "output_type": "execute_result"
    }
   ],
   "source": [
    "finalDf[finalDf[\"principal component 2\"] > 0.6]"
   ]
  },
  {
   "cell_type": "markdown",
   "metadata": {},
   "source": [
    "# Document classification\n",
    "https://arxiv.org/pdf/1607.01759.pdf"
   ]
  },
  {
   "cell_type": "code",
   "execution_count": 16,
   "metadata": {},
   "outputs": [],
   "source": [
    "# !git clone https://github.com/facebookresearch/fastText.git models/fastText\n",
    "# !pip install models/fastText/."
   ]
  },
  {
   "cell_type": "code",
   "execution_count": 48,
   "metadata": {},
   "outputs": [
    {
     "data": {
      "text/plain": [
       "<module 'modules.ft_functions' from '/home/jovyan/work/DSA/modules/ft_functions.py'>"
      ]
     },
     "execution_count": 48,
     "metadata": {},
     "output_type": "execute_result"
    }
   ],
   "source": [
    "import glob\n",
    "import os\n",
    "import re\n",
    "import pandas as pd\n",
    "import fasttext\n",
    "from sklearn.model_selection import train_test_split\n",
    "from modules import ft_functions as ftf\n",
    "import csv\n",
    "import matplotlib.pyplot as plt\n",
    "from sklearn.metrics import classification_report\n",
    "import importlib\n",
    "import pickle\n",
    "importlib.reload(ftf)"
   ]
  },
  {
   "cell_type": "markdown",
   "metadata": {},
   "source": [
    "__data source:__\n",
    "\n",
    "http://mlg.ucd.ie/datasets/bbc.html\n",
    "- D. Greene and P. Cunningham. \"Practical Solutions to the Problem of Diagonal Dominance in Kernel Document Clustering\", Proc. ICML 2006.\n",
    "All rights, including copyright, in the content of the original articles are owned by the BBC.\n",
    "Contact Derek Greene <derek.greene@ucd.ie>"
   ]
  },
  {
   "cell_type": "markdown",
   "metadata": {},
   "source": [
    "## Load data"
   ]
  },
  {
   "cell_type": "code",
   "execution_count": 49,
   "metadata": {},
   "outputs": [],
   "source": [
    "docs_path = \"/home/jovyan/work/DSA/data/fasttext/bbc/\"\n",
    "folders = [\"business\", \"entertainment\", \"politics\", \"tech\", \"sport\"]\n",
    "\n",
    "docs_df = pd.DataFrame(columns = [\"text\", \"TAG\"])\n",
    "for folder in folders: \n",
    "    folder_list = []\n",
    "    folder_path = os.path.join(docs_path, folder)\n",
    "    folder_files = glob.glob(os.path.join(folder_path, \"*.txt\"))\n",
    "    for file in folder_files:\n",
    "        try:\n",
    "            f = open(file)\n",
    "            folder_list.append(f.read())\n",
    "            f.close()\n",
    "        except:\n",
    "            pass\n",
    "    folder_df = pd.DataFrame(folder_list, columns = [\"text\"])\n",
    "    folder_df[\"TAG\"] =  [folder]*folder_df.shape[0]\n",
    "    docs_df = docs_df.append(folder_df, ignore_index=True)"
   ]
  },
  {
   "cell_type": "code",
   "execution_count": 50,
   "metadata": {},
   "outputs": [
    {
     "name": "stdout",
     "output_type": "stream",
     "text": [
      "Docs read: 2224\n",
      "\n",
      "Number of articles in category: \n",
      "\n",
      " sport: 510\n",
      " business: 510\n",
      " politics: 417\n",
      " tech: 401\n",
      " entertainment: 386\n"
     ]
    },
    {
     "data": {
      "text/html": [
       "<div>\n",
       "<style scoped>\n",
       "    .dataframe tbody tr th:only-of-type {\n",
       "        vertical-align: middle;\n",
       "    }\n",
       "\n",
       "    .dataframe tbody tr th {\n",
       "        vertical-align: top;\n",
       "    }\n",
       "\n",
       "    .dataframe thead th {\n",
       "        text-align: right;\n",
       "    }\n",
       "</style>\n",
       "<table border=\"1\" class=\"dataframe\">\n",
       "  <thead>\n",
       "    <tr style=\"text-align: right;\">\n",
       "      <th></th>\n",
       "      <th>text</th>\n",
       "      <th>TAG</th>\n",
       "    </tr>\n",
       "  </thead>\n",
       "  <tbody>\n",
       "    <tr>\n",
       "      <th>1408</th>\n",
       "      <td>Call for action on internet scam\\n\\nPhone companies are not doing enough to warn customers about internet \"rogue-dialling\" scams, according to premium phone line regulator Icstis.\\n\\nIt has receiv...</td>\n",
       "      <td>tech</td>\n",
       "    </tr>\n",
       "    <tr>\n",
       "      <th>1112</th>\n",
       "      <td>Howard dismisses Tory tax fears\\n\\nMichael Howard has dismissed fears from some Conservatives that his plans for £4bn tax cuts are too modest.\\n\\nHe defended the package, saying it was a plan for ...</td>\n",
       "      <td>politics</td>\n",
       "    </tr>\n",
       "    <tr>\n",
       "      <th>951</th>\n",
       "      <td>Housing plans criticised by MPs\\n\\n\"Irreversible environmental damage\" will be caused by government plans to build more than one million homes in south-east England, MPs have warned.\\n\\n\"Sustainab...</td>\n",
       "      <td>politics</td>\n",
       "    </tr>\n",
       "    <tr>\n",
       "      <th>1035</th>\n",
       "      <td>Former NI minister Scott dies\\n\\nFormer Northern Ireland minister Sir Nicholas Scott has died at a London hospice, his family has announced.\\n\\nThe former Conservative MP for Kensington and Chelse...</td>\n",
       "      <td>politics</td>\n",
       "    </tr>\n",
       "    <tr>\n",
       "      <th>597</th>\n",
       "      <td>Applegate's Charity show closes\\n\\nUS musical Sweet Charity has cancelled its run on Broadway after poor ticket sales for its early shows.\\n\\nStar Christina Applegate had to pull out of pre-Broadw...</td>\n",
       "      <td>entertainment</td>\n",
       "    </tr>\n",
       "  </tbody>\n",
       "</table>\n",
       "</div>"
      ],
      "text/plain": [
       "                                                                                                                                                                                                         text  \\\n",
       "1408  Call for action on internet scam\\n\\nPhone companies are not doing enough to warn customers about internet \"rogue-dialling\" scams, according to premium phone line regulator Icstis.\\n\\nIt has receiv...   \n",
       "1112  Howard dismisses Tory tax fears\\n\\nMichael Howard has dismissed fears from some Conservatives that his plans for £4bn tax cuts are too modest.\\n\\nHe defended the package, saying it was a plan for ...   \n",
       "951   Housing plans criticised by MPs\\n\\n\"Irreversible environmental damage\" will be caused by government plans to build more than one million homes in south-east England, MPs have warned.\\n\\n\"Sustainab...   \n",
       "1035  Former NI minister Scott dies\\n\\nFormer Northern Ireland minister Sir Nicholas Scott has died at a London hospice, his family has announced.\\n\\nThe former Conservative MP for Kensington and Chelse...   \n",
       "597   Applegate's Charity show closes\\n\\nUS musical Sweet Charity has cancelled its run on Broadway after poor ticket sales for its early shows.\\n\\nStar Christina Applegate had to pull out of pre-Broadw...   \n",
       "\n",
       "                TAG  \n",
       "1408           tech  \n",
       "1112       politics  \n",
       "951        politics  \n",
       "1035       politics  \n",
       "597   entertainment  "
      ]
     },
     "metadata": {},
     "output_type": "display_data"
    }
   ],
   "source": [
    "print(f\"Docs read: {docs_df.shape[0]}\\n\") \n",
    "counts = docs_df[\"TAG\"].value_counts().to_dict()\n",
    "print(\"Number of articles in category: \\n\")\n",
    "[print(f\" {key}: {value}\") for key, value in counts.items()]\n",
    "display(docs_df.sample(5))"
   ]
  },
  {
   "cell_type": "markdown",
   "metadata": {},
   "source": [
    "## Train test split"
   ]
  },
  {
   "cell_type": "code",
   "execution_count": 51,
   "metadata": {},
   "outputs": [
    {
     "name": "stdout",
     "output_type": "stream",
     "text": [
      "number of train documents: 1423\n",
      "number of validation documents: 356\n",
      "number of test documents: 445\n"
     ]
    }
   ],
   "source": [
    "docs_train_val, docs_test = train_test_split(docs_df, test_size = 0.2)\n",
    "docs_train, docs_val = train_test_split(docs_train_val, test_size = 0.2)\n",
    " \n",
    "print(\"number of train documents: {}\".format(len(docs_train)))\n",
    "print(\"number of validation documents: {}\".format(len(docs_val)))\n",
    "print(\"number of test documents: {}\".format(len(docs_test)))\n",
    "docs_train.reset_index(inplace = True)\n",
    "docs_test.reset_index(inplace = True)\n",
    "docs_val.reset_index(inplace = True)"
   ]
  },
  {
   "cell_type": "code",
   "execution_count": 52,
   "metadata": {},
   "outputs": [
    {
     "name": "stdout",
     "output_type": "stream",
     "text": [
      "               train_freq  val_freq  test_freq\n",
      "business              330        89         91\n",
      "entertainment         240        64         82\n",
      "politics              261        69         87\n",
      "sport                 327        84         99\n",
      "tech                  265        50         86\n"
     ]
    },
    {
     "data": {
      "image/png": "[encoded data removed]",
      "text/plain": [
       "<Figure size 2160x720 with 1 Axes>"
      ]
     },
     "metadata": {
      "needs_background": "light"
     },
     "output_type": "display_data"
    }
   ],
   "source": [
    "import importlib\n",
    "importlib.reload(ftf)\n",
    "plt.rcParams[\"figure.figsize\"]=[30, 10]\n",
    "ftf.plot_tag_frequencies(docs_train, docs_val, docs_test)"
   ]
  },
  {
   "cell_type": "markdown",
   "metadata": {},
   "source": [
    "# Preprocess training data"
   ]
  },
  {
   "cell_type": "markdown",
   "metadata": {},
   "source": [
    "#### https://fasttext.cc/docs/en/supervised-tutorial.html\n",
    "- input must be a filepath\n",
    "- all the labels start by the __label__ prefix, which is how fastText recognize what is a label or what is a word\n",
    "- must be encoded as UTF-8"
   ]
  },
  {
   "cell_type": "markdown",
   "metadata": {},
   "source": [
    "#### add prefix"
   ]
  },
  {
   "cell_type": "code",
   "execution_count": 53,
   "metadata": {},
   "outputs": [],
   "source": [
    "# sample 5 row indexes\n",
    "# pd.reset_option('max_colwidth')\n",
    "pd.set_option('max_colwidth', 200)\n",
    "sampl = docs_train.sample(5).index.values"
   ]
  },
  {
   "cell_type": "code",
   "execution_count": 54,
   "metadata": {},
   "outputs": [
    {
     "data": {
      "text/html": [
       "<div>\n",
       "<style scoped>\n",
       "    .dataframe tbody tr th:only-of-type {\n",
       "        vertical-align: middle;\n",
       "    }\n",
       "\n",
       "    .dataframe tbody tr th {\n",
       "        vertical-align: top;\n",
       "    }\n",
       "\n",
       "    .dataframe thead th {\n",
       "        text-align: right;\n",
       "    }\n",
       "</style>\n",
       "<table border=\"1\" class=\"dataframe\">\n",
       "  <thead>\n",
       "    <tr style=\"text-align: right;\">\n",
       "      <th></th>\n",
       "      <th>TAG</th>\n",
       "      <th>text</th>\n",
       "    </tr>\n",
       "  </thead>\n",
       "  <tbody>\n",
       "    <tr>\n",
       "      <th>835</th>\n",
       "      <td>__label__business</td>\n",
       "      <td>Mixed Christmas for US retailers\\n\\nUS retailers posted mixed results for December - with luxury retailers faring well while many others were forced to slash prices to lift sales.\\n\\nUpscale depar...</td>\n",
       "    </tr>\n",
       "    <tr>\n",
       "      <th>1387</th>\n",
       "      <td>__label__sport</td>\n",
       "      <td>A year to remember for Irish\\n\\nThere used to be one subliminal moment during a year in Irish rugby that stood out more than most.\\n\\nWell, at least there used to one. Now there is a handful to lo...</td>\n",
       "    </tr>\n",
       "    <tr>\n",
       "      <th>494</th>\n",
       "      <td>__label__entertainment</td>\n",
       "      <td>Youssou N'Dour wins music prize\\n\\nSenegalese musician Youssou N'Dour has been named a winner of a BBC Radio 3 World Music Award.\\n\\nHis album Egypt won the critics' award for album of the year, w...</td>\n",
       "    </tr>\n",
       "    <tr>\n",
       "      <th>1106</th>\n",
       "      <td>__label__sport</td>\n",
       "      <td>Wilkinson return 'unlikely'\\n\\nJonny Wilkinson looks set to miss the whole of the 2005 RBS Six Nations.\\n\\nEngland's World Cup-winning fly-half said last week he was hoping to recover from his lat...</td>\n",
       "    </tr>\n",
       "    <tr>\n",
       "      <th>848</th>\n",
       "      <td>__label__sport</td>\n",
       "      <td>Costin aims for comeback in 2006\\n\\nJamie Costin should be paralysed.\\n\\nHe says so himself in a matter-of-fact way as he recalls the car accident which occurred nine days before he was scheduled ...</td>\n",
       "    </tr>\n",
       "  </tbody>\n",
       "</table>\n",
       "</div>"
      ],
      "text/plain": [
       "                         TAG  \\\n",
       "835        __label__business   \n",
       "1387          __label__sport   \n",
       "494   __label__entertainment   \n",
       "1106          __label__sport   \n",
       "848           __label__sport   \n",
       "\n",
       "                                                                                                                                                                                                         text  \n",
       "835   Mixed Christmas for US retailers\\n\\nUS retailers posted mixed results for December - with luxury retailers faring well while many others were forced to slash prices to lift sales.\\n\\nUpscale depar...  \n",
       "1387  A year to remember for Irish\\n\\nThere used to be one subliminal moment during a year in Irish rugby that stood out more than most.\\n\\nWell, at least there used to one. Now there is a handful to lo...  \n",
       "494   Youssou N'Dour wins music prize\\n\\nSenegalese musician Youssou N'Dour has been named a winner of a BBC Radio 3 World Music Award.\\n\\nHis album Egypt won the critics' award for album of the year, w...  \n",
       "1106  Wilkinson return 'unlikely'\\n\\nJonny Wilkinson looks set to miss the whole of the 2005 RBS Six Nations.\\n\\nEngland's World Cup-winning fly-half said last week he was hoping to recover from his lat...  \n",
       "848   Costin aims for comeback in 2006\\n\\nJamie Costin should be paralysed.\\n\\nHe says so himself in a matter-of-fact way as he recalls the car accident which occurred nine days before he was scheduled ...  "
      ]
     },
     "execution_count": 54,
     "metadata": {},
     "output_type": "execute_result"
    }
   ],
   "source": [
    "label_prefix = \"__label__\"\n",
    "df_train = docs_train.loc[:, [\"TAG\", \"text\"]].copy()\n",
    "df_train[\"TAG\"] = [label_prefix + label + \"\" for label in df_train[\"TAG\"].tolist()]\n",
    "df_train.iloc[sampl]"
   ]
  },
  {
   "cell_type": "markdown",
   "metadata": {},
   "source": [
    "#### remove new line __\\n__ character"
   ]
  },
  {
   "cell_type": "code",
   "execution_count": 55,
   "metadata": {},
   "outputs": [
    {
     "data": {
      "text/html": [
       "<div>\n",
       "<style scoped>\n",
       "    .dataframe tbody tr th:only-of-type {\n",
       "        vertical-align: middle;\n",
       "    }\n",
       "\n",
       "    .dataframe tbody tr th {\n",
       "        vertical-align: top;\n",
       "    }\n",
       "\n",
       "    .dataframe thead th {\n",
       "        text-align: right;\n",
       "    }\n",
       "</style>\n",
       "<table border=\"1\" class=\"dataframe\">\n",
       "  <thead>\n",
       "    <tr style=\"text-align: right;\">\n",
       "      <th></th>\n",
       "      <th>TAG</th>\n",
       "      <th>text</th>\n",
       "    </tr>\n",
       "  </thead>\n",
       "  <tbody>\n",
       "    <tr>\n",
       "      <th>835</th>\n",
       "      <td>__label__business</td>\n",
       "      <td>Mixed Christmas for US retailers  US retailers posted mixed results for December - with luxury retailers faring well while many others were forced to slash prices to lift sales.  Upscale departmen...</td>\n",
       "    </tr>\n",
       "    <tr>\n",
       "      <th>1387</th>\n",
       "      <td>__label__sport</td>\n",
       "      <td>A year to remember for Irish  There used to be one subliminal moment during a year in Irish rugby that stood out more than most.  Well, at least there used to one. Now there is a handful to look b...</td>\n",
       "    </tr>\n",
       "    <tr>\n",
       "      <th>494</th>\n",
       "      <td>__label__entertainment</td>\n",
       "      <td>Youssou N'Dour wins music prize  Senegalese musician Youssou N'Dour has been named a winner of a BBC Radio 3 World Music Award.  His album Egypt won the critics' award for album of the year, while...</td>\n",
       "    </tr>\n",
       "    <tr>\n",
       "      <th>1106</th>\n",
       "      <td>__label__sport</td>\n",
       "      <td>Wilkinson return 'unlikely'  Jonny Wilkinson looks set to miss the whole of the 2005 RBS Six Nations.  England's World Cup-winning fly-half said last week he was hoping to recover from his latest ...</td>\n",
       "    </tr>\n",
       "    <tr>\n",
       "      <th>848</th>\n",
       "      <td>__label__sport</td>\n",
       "      <td>Costin aims for comeback in 2006  Jamie Costin should be paralysed.  He says so himself in a matter-of-fact way as he recalls the car accident which occurred nine days before he was scheduled to s...</td>\n",
       "    </tr>\n",
       "  </tbody>\n",
       "</table>\n",
       "</div>"
      ],
      "text/plain": [
       "                         TAG  \\\n",
       "835        __label__business   \n",
       "1387          __label__sport   \n",
       "494   __label__entertainment   \n",
       "1106          __label__sport   \n",
       "848           __label__sport   \n",
       "\n",
       "                                                                                                                                                                                                         text  \n",
       "835   Mixed Christmas for US retailers  US retailers posted mixed results for December - with luxury retailers faring well while many others were forced to slash prices to lift sales.  Upscale departmen...  \n",
       "1387  A year to remember for Irish  There used to be one subliminal moment during a year in Irish rugby that stood out more than most.  Well, at least there used to one. Now there is a handful to look b...  \n",
       "494   Youssou N'Dour wins music prize  Senegalese musician Youssou N'Dour has been named a winner of a BBC Radio 3 World Music Award.  His album Egypt won the critics' award for album of the year, while...  \n",
       "1106  Wilkinson return 'unlikely'  Jonny Wilkinson looks set to miss the whole of the 2005 RBS Six Nations.  England's World Cup-winning fly-half said last week he was hoping to recover from his latest ...  \n",
       "848   Costin aims for comeback in 2006  Jamie Costin should be paralysed.  He says so himself in a matter-of-fact way as he recalls the car accident which occurred nine days before he was scheduled to s...  "
      ]
     },
     "execution_count": 55,
     "metadata": {},
     "output_type": "execute_result"
    }
   ],
   "source": [
    "df_train[\"text\"] = [re.sub(\"\\n\", \" \", text)   for text in df_train[\"text\"].tolist()]  \n",
    "df_train.iloc[sampl]"
   ]
  },
  {
   "cell_type": "markdown",
   "metadata": {},
   "source": [
    "#### subsitute multiple white spaces with a single white space"
   ]
  },
  {
   "cell_type": "code",
   "execution_count": 56,
   "metadata": {},
   "outputs": [
    {
     "data": {
      "text/html": [
       "<div>\n",
       "<style scoped>\n",
       "    .dataframe tbody tr th:only-of-type {\n",
       "        vertical-align: middle;\n",
       "    }\n",
       "\n",
       "    .dataframe tbody tr th {\n",
       "        vertical-align: top;\n",
       "    }\n",
       "\n",
       "    .dataframe thead th {\n",
       "        text-align: right;\n",
       "    }\n",
       "</style>\n",
       "<table border=\"1\" class=\"dataframe\">\n",
       "  <thead>\n",
       "    <tr style=\"text-align: right;\">\n",
       "      <th></th>\n",
       "      <th>TAG</th>\n",
       "      <th>text</th>\n",
       "    </tr>\n",
       "  </thead>\n",
       "  <tbody>\n",
       "    <tr>\n",
       "      <th>835</th>\n",
       "      <td>__label__business</td>\n",
       "      <td>Mixed Christmas for US retailers US retailers posted mixed results for December - with luxury retailers faring well while many others were forced to slash prices to lift sales. Upscale department ...</td>\n",
       "    </tr>\n",
       "    <tr>\n",
       "      <th>1387</th>\n",
       "      <td>__label__sport</td>\n",
       "      <td>A year to remember for Irish There used to be one subliminal moment during a year in Irish rugby that stood out more than most. Well, at least there used to one. Now there is a handful to look bac...</td>\n",
       "    </tr>\n",
       "    <tr>\n",
       "      <th>494</th>\n",
       "      <td>__label__entertainment</td>\n",
       "      <td>Youssou N'Dour wins music prize Senegalese musician Youssou N'Dour has been named a winner of a BBC Radio 3 World Music Award. His album Egypt won the critics' award for album of the year, while t...</td>\n",
       "    </tr>\n",
       "    <tr>\n",
       "      <th>1106</th>\n",
       "      <td>__label__sport</td>\n",
       "      <td>Wilkinson return 'unlikely' Jonny Wilkinson looks set to miss the whole of the 2005 RBS Six Nations. England's World Cup-winning fly-half said last week he was hoping to recover from his latest in...</td>\n",
       "    </tr>\n",
       "    <tr>\n",
       "      <th>848</th>\n",
       "      <td>__label__sport</td>\n",
       "      <td>Costin aims for comeback in 2006 Jamie Costin should be paralysed. He says so himself in a matter-of-fact way as he recalls the car accident which occurred nine days before he was scheduled to ste...</td>\n",
       "    </tr>\n",
       "  </tbody>\n",
       "</table>\n",
       "</div>"
      ],
      "text/plain": [
       "                         TAG  \\\n",
       "835        __label__business   \n",
       "1387          __label__sport   \n",
       "494   __label__entertainment   \n",
       "1106          __label__sport   \n",
       "848           __label__sport   \n",
       "\n",
       "                                                                                                                                                                                                         text  \n",
       "835   Mixed Christmas for US retailers US retailers posted mixed results for December - with luxury retailers faring well while many others were forced to slash prices to lift sales. Upscale department ...  \n",
       "1387  A year to remember for Irish There used to be one subliminal moment during a year in Irish rugby that stood out more than most. Well, at least there used to one. Now there is a handful to look bac...  \n",
       "494   Youssou N'Dour wins music prize Senegalese musician Youssou N'Dour has been named a winner of a BBC Radio 3 World Music Award. His album Egypt won the critics' award for album of the year, while t...  \n",
       "1106  Wilkinson return 'unlikely' Jonny Wilkinson looks set to miss the whole of the 2005 RBS Six Nations. England's World Cup-winning fly-half said last week he was hoping to recover from his latest in...  \n",
       "848   Costin aims for comeback in 2006 Jamie Costin should be paralysed. He says so himself in a matter-of-fact way as he recalls the car accident which occurred nine days before he was scheduled to ste...  "
      ]
     },
     "execution_count": 56,
     "metadata": {},
     "output_type": "execute_result"
    }
   ],
   "source": [
    "df_train[\"text\"] = [re.sub('\\s{2,}', ' ', text) for text in df_train[\"text\"].tolist()] \n",
    "df_train.iloc[sampl]"
   ]
  },
  {
   "cell_type": "markdown",
   "metadata": {},
   "source": [
    "#### do padding around interpunction signs"
   ]
  },
  {
   "cell_type": "code",
   "execution_count": 57,
   "metadata": {},
   "outputs": [
    {
     "data": {
      "text/html": [
       "<div>\n",
       "<style scoped>\n",
       "    .dataframe tbody tr th:only-of-type {\n",
       "        vertical-align: middle;\n",
       "    }\n",
       "\n",
       "    .dataframe tbody tr th {\n",
       "        vertical-align: top;\n",
       "    }\n",
       "\n",
       "    .dataframe thead th {\n",
       "        text-align: right;\n",
       "    }\n",
       "</style>\n",
       "<table border=\"1\" class=\"dataframe\">\n",
       "  <thead>\n",
       "    <tr style=\"text-align: right;\">\n",
       "      <th></th>\n",
       "      <th>TAG</th>\n",
       "      <th>text</th>\n",
       "    </tr>\n",
       "  </thead>\n",
       "  <tbody>\n",
       "    <tr>\n",
       "      <th>835</th>\n",
       "      <td>__label__business</td>\n",
       "      <td>Mixed Christmas for US retailers US retailers posted mixed results for December - with luxury retailers faring well while many others were forced to slash prices to lift sales .  Upscale departmen...</td>\n",
       "    </tr>\n",
       "    <tr>\n",
       "      <th>1387</th>\n",
       "      <td>__label__sport</td>\n",
       "      <td>A year to remember for Irish There used to be one subliminal moment during a year in Irish rugby that stood out more than most .  Well ,  at least there used to one .  Now there is a handful to lo...</td>\n",
       "    </tr>\n",
       "    <tr>\n",
       "      <th>494</th>\n",
       "      <td>__label__entertainment</td>\n",
       "      <td>Youssou N ' Dour wins music prize Senegalese musician Youssou N ' Dour has been named a winner of a BBC Radio 3 World Music Award .  His album Egypt won the critics '  award for album of the year ...</td>\n",
       "    </tr>\n",
       "    <tr>\n",
       "      <th>1106</th>\n",
       "      <td>__label__sport</td>\n",
       "      <td>Wilkinson return  ' unlikely '  Jonny Wilkinson looks set to miss the whole of the 2005 RBS Six Nations .  England ' s World Cup-winning fly-half said last week he was hoping to recover from his l...</td>\n",
       "    </tr>\n",
       "    <tr>\n",
       "      <th>848</th>\n",
       "      <td>__label__sport</td>\n",
       "      <td>Costin aims for comeback in 2006 Jamie Costin should be paralysed .  He says so himself in a matter-of-fact way as he recalls the car accident which occurred nine days before he was scheduled to s...</td>\n",
       "    </tr>\n",
       "  </tbody>\n",
       "</table>\n",
       "</div>"
      ],
      "text/plain": [
       "                         TAG  \\\n",
       "835        __label__business   \n",
       "1387          __label__sport   \n",
       "494   __label__entertainment   \n",
       "1106          __label__sport   \n",
       "848           __label__sport   \n",
       "\n",
       "                                                                                                                                                                                                         text  \n",
       "835   Mixed Christmas for US retailers US retailers posted mixed results for December - with luxury retailers faring well while many others were forced to slash prices to lift sales .  Upscale departmen...  \n",
       "1387  A year to remember for Irish There used to be one subliminal moment during a year in Irish rugby that stood out more than most .  Well ,  at least there used to one .  Now there is a handful to lo...  \n",
       "494   Youssou N ' Dour wins music prize Senegalese musician Youssou N ' Dour has been named a winner of a BBC Radio 3 World Music Award .  His album Egypt won the critics '  award for album of the year ...  \n",
       "1106  Wilkinson return  ' unlikely '  Jonny Wilkinson looks set to miss the whole of the 2005 RBS Six Nations .  England ' s World Cup-winning fly-half said last week he was hoping to recover from his l...  \n",
       "848   Costin aims for comeback in 2006 Jamie Costin should be paralysed .  He says so himself in a matter-of-fact way as he recalls the car accident which occurred nine days before he was scheduled to s...  "
      ]
     },
     "execution_count": 57,
     "metadata": {},
     "output_type": "execute_result"
    }
   ],
   "source": [
    "df_train[\"text\"] = [re.sub('([\\\"\\'.,!?()])', r' \\1 ', text) for text in df_train[\"text\"].tolist()]\n",
    "df_train.iloc[sampl]"
   ]
  },
  {
   "cell_type": "code",
   "execution_count": 27,
   "metadata": {},
   "outputs": [],
   "source": [
    "#     ad1[\"text\"] = ad1[\"text\"].str.lower() # convert upper case to lower case"
   ]
  },
  {
   "cell_type": "code",
   "execution_count": 58,
   "metadata": {},
   "outputs": [],
   "source": [
    "path_train = \"/home/jovyan/work/DSA/data/fasttext/articles.train\" \n",
    "df_train.to_csv(path_train, encoding = \"utf-8\", sep=\" \", header=False, index=False) #, quoting=csv.QUOTE_NONE, escapechar=\"-\""
   ]
  },
  {
   "cell_type": "markdown",
   "metadata": {},
   "source": [
    "#### the same preprocessing with validation and test set"
   ]
  },
  {
   "cell_type": "code",
   "execution_count": 59,
   "metadata": {},
   "outputs": [],
   "source": [
    "df_test = ftf.prepare_annotated_file(docs_test, save_file = False)\n",
    "path_valid = \"/home/jovyan/work/DSA/data/fasttext/articles.valid\"\n",
    "df_val = ftf.prepare_annotated_file(docs_val, save_file = True, outfile = path_valid, label_prefix = \"__label__\")\n",
    "path_train_val = \"/home/jovyan/work/DSA/data/fasttext/articles.train_val\"\n",
    "df_train_val = ftf.prepare_annotated_file(docs_train_val, save_file = True, outfile = path_train_val, label_prefix = \"__label__\")"
   ]
  },
  {
   "cell_type": "markdown",
   "metadata": {},
   "source": [
    "# train model"
   ]
  },
  {
   "cell_type": "code",
   "execution_count": 60,
   "metadata": {},
   "outputs": [],
   "source": [
    "path_model = \"/home/jovyan/work/DSA/data/fasttext/model.bin\" \n",
    "model = fasttext.train_supervised(input = path_train_val, epoch=100) # input = path_train, autotuneValidationFile=path_valid, autotuneDuration=7200 # input = path_train_val, epoch=100, autotuneMetric=\"f1:__label__politics\", \n",
    "model.save_model(path_model)"
   ]
  },
  {
   "cell_type": "markdown",
   "metadata": {},
   "source": [
    "#### with automatic hyperparameter optimization"
   ]
  },
  {
   "cell_type": "code",
   "execution_count": null,
   "metadata": {},
   "outputs": [],
   "source": [
    "path_model = \"/home/jovyan/work/DSA/data/fasttext/model_autotuned.bin\" \n",
    "model = fasttext.train_supervised(input = path_train, autotuneValidationFile=path_valid, autotuneDuration=60) # input = path_train_val, epoch=100, autotuneMetric=\"f1:__label__politics\", \n",
    "model.save_model(path_model)"
   ]
  },
  {
   "cell_type": "markdown",
   "metadata": {},
   "source": [
    "# test model"
   ]
  },
  {
   "cell_type": "code",
   "execution_count": 61,
   "metadata": {},
   "outputs": [
    {
     "data": {
      "text/html": [
       "<div>\n",
       "<style scoped>\n",
       "    .dataframe tbody tr th:only-of-type {\n",
       "        vertical-align: middle;\n",
       "    }\n",
       "\n",
       "    .dataframe tbody tr th {\n",
       "        vertical-align: top;\n",
       "    }\n",
       "\n",
       "    .dataframe thead th {\n",
       "        text-align: right;\n",
       "    }\n",
       "</style>\n",
       "<table border=\"1\" class=\"dataframe\">\n",
       "  <thead>\n",
       "    <tr style=\"text-align: right;\">\n",
       "      <th></th>\n",
       "      <th>prediction</th>\n",
       "      <th>confidence</th>\n",
       "      <th>truth</th>\n",
       "      <th>text</th>\n",
       "    </tr>\n",
       "  </thead>\n",
       "  <tbody>\n",
       "    <tr>\n",
       "      <th>0</th>\n",
       "      <td>__label__entertainment</td>\n",
       "      <td>0.968762</td>\n",
       "      <td>__label__entertainment</td>\n",
       "      <td>Famed music director Viotti dies Conductor Marcello Viotti ,  director of Venice ' s famous La Fenice Theatre ,  has died in Germany at 50 .  Viotti ,  director of La Fenice since 2002 ,  conducte...</td>\n",
       "    </tr>\n",
       "    <tr>\n",
       "      <th>1</th>\n",
       "      <td>__label__sport</td>\n",
       "      <td>0.998814</td>\n",
       "      <td>__label__sport</td>\n",
       "      <td>Celts savour Grand Slam prospect The Six Nations has heralded a new order in northern hemisphere rugby this year and Wales and Ireland rather than traditional big guns France and England face a po...</td>\n",
       "    </tr>\n",
       "    <tr>\n",
       "      <th>2</th>\n",
       "      <td>__label__politics</td>\n",
       "      <td>0.984808</td>\n",
       "      <td>__label__politics</td>\n",
       "      <td>Top judge clashes with ministers The UK ' s top judge has revealed he has clashed with ministers about how the heads of public inquiries are chosen .  Lord Woolf said he was determined his current...</td>\n",
       "    </tr>\n",
       "    <tr>\n",
       "      <th>3</th>\n",
       "      <td>__label__business</td>\n",
       "      <td>0.949321</td>\n",
       "      <td>__label__business</td>\n",
       "      <td>Salary scandal in Cameroon Cameroon says widespread corruption in its finance ministry has cost it 1bn CFA francs  ( $2m; £1m )  a month .  About 500 officials are accused of either awarding thems...</td>\n",
       "    </tr>\n",
       "    <tr>\n",
       "      <th>4</th>\n",
       "      <td>__label__tech</td>\n",
       "      <td>0.975679</td>\n",
       "      <td>__label__tech</td>\n",
       "      <td>When invention turns to innovation It is unlikely that future technological inventions are going to have the same kind of transformative impact that they did in the past .  When history takes a lo...</td>\n",
       "    </tr>\n",
       "    <tr>\n",
       "      <th>...</th>\n",
       "      <td>...</td>\n",
       "      <td>...</td>\n",
       "      <td>...</td>\n",
       "      <td>...</td>\n",
       "    </tr>\n",
       "    <tr>\n",
       "      <th>440</th>\n",
       "      <td>__label__sport</td>\n",
       "      <td>0.995902</td>\n",
       "      <td>__label__sport</td>\n",
       "      <td>White admits to Balco drugs link Banned American sprinter Kelli White says she knowingly took steroids given to her by Bay Area Lab Co-Operative  ( Balco )  president Victor Conte .  Conte faces a...</td>\n",
       "    </tr>\n",
       "    <tr>\n",
       "      <th>441</th>\n",
       "      <td>__label__tech</td>\n",
       "      <td>0.640735</td>\n",
       "      <td>__label__tech</td>\n",
       "      <td>Mobile gaming takes off in India Gaming on the move is one of the fastest-growing activities among the tech-savvy in India ,  says a report .  The Indian mobile gaming market is expected to genera...</td>\n",
       "    </tr>\n",
       "    <tr>\n",
       "      <th>442</th>\n",
       "      <td>__label__business</td>\n",
       "      <td>0.999817</td>\n",
       "      <td>__label__business</td>\n",
       "      <td>Latin America sees strong growth Latin America ' s economy grew by 5 . 5% in 2004 ,  its best performance since 1980 ,  while exports registered their best performance in two decades .  The United...</td>\n",
       "    </tr>\n",
       "    <tr>\n",
       "      <th>443</th>\n",
       "      <td>__label__sport</td>\n",
       "      <td>0.999276</td>\n",
       "      <td>__label__sport</td>\n",
       "      <td>Ajax refuse to rule out Jol move Ajax have refused to reveal whether Tottenham ' s boss Martin Jol is on the Dutch champions '  shortlist to become the Amsterdam club ' s new coach .  Jol ,  who h...</td>\n",
       "    </tr>\n",
       "    <tr>\n",
       "      <th>444</th>\n",
       "      <td>__label__sport</td>\n",
       "      <td>0.989324</td>\n",
       "      <td>__label__sport</td>\n",
       "      <td>Nadal marches on in Mexico Rafael Nadal continued his run of fine form to beat Guillermo Canas and reach the Mexican Open semis in Acapulco .  Eighth seed Nadal ,  who picked up his second ATP tit...</td>\n",
       "    </tr>\n",
       "  </tbody>\n",
       "</table>\n",
       "<p>445 rows × 4 columns</p>\n",
       "</div>"
      ],
      "text/plain": [
       "                 prediction  confidence                   truth  \\\n",
       "0    __label__entertainment    0.968762  __label__entertainment   \n",
       "1            __label__sport    0.998814          __label__sport   \n",
       "2         __label__politics    0.984808       __label__politics   \n",
       "3         __label__business    0.949321       __label__business   \n",
       "4             __label__tech    0.975679           __label__tech   \n",
       "..                      ...         ...                     ...   \n",
       "440          __label__sport    0.995902          __label__sport   \n",
       "441           __label__tech    0.640735           __label__tech   \n",
       "442       __label__business    0.999817       __label__business   \n",
       "443          __label__sport    0.999276          __label__sport   \n",
       "444          __label__sport    0.989324          __label__sport   \n",
       "\n",
       "                                                                                                                                                                                                        text  \n",
       "0    Famed music director Viotti dies Conductor Marcello Viotti ,  director of Venice ' s famous La Fenice Theatre ,  has died in Germany at 50 .  Viotti ,  director of La Fenice since 2002 ,  conducte...  \n",
       "1    Celts savour Grand Slam prospect The Six Nations has heralded a new order in northern hemisphere rugby this year and Wales and Ireland rather than traditional big guns France and England face a po...  \n",
       "2    Top judge clashes with ministers The UK ' s top judge has revealed he has clashed with ministers about how the heads of public inquiries are chosen .  Lord Woolf said he was determined his current...  \n",
       "3    Salary scandal in Cameroon Cameroon says widespread corruption in its finance ministry has cost it 1bn CFA francs  ( $2m; £1m )  a month .  About 500 officials are accused of either awarding thems...  \n",
       "4    When invention turns to innovation It is unlikely that future technological inventions are going to have the same kind of transformative impact that they did in the past .  When history takes a lo...  \n",
       "..                                                                                                                                                                                                       ...  \n",
       "440  White admits to Balco drugs link Banned American sprinter Kelli White says she knowingly took steroids given to her by Bay Area Lab Co-Operative  ( Balco )  president Victor Conte .  Conte faces a...  \n",
       "441  Mobile gaming takes off in India Gaming on the move is one of the fastest-growing activities among the tech-savvy in India ,  says a report .  The Indian mobile gaming market is expected to genera...  \n",
       "442  Latin America sees strong growth Latin America ' s economy grew by 5 . 5% in 2004 ,  its best performance since 1980 ,  while exports registered their best performance in two decades .  The United...  \n",
       "443  Ajax refuse to rule out Jol move Ajax have refused to reveal whether Tottenham ' s boss Martin Jol is on the Dutch champions '  shortlist to become the Amsterdam club ' s new coach .  Jol ,  who h...  \n",
       "444  Nadal marches on in Mexico Rafael Nadal continued his run of fine form to beat Guillermo Canas and reach the Mexican Open semis in Acapulco .  Eighth seed Nadal ,  who picked up his second ATP tit...  \n",
       "\n",
       "[445 rows x 4 columns]"
      ]
     },
     "execution_count": 61,
     "metadata": {},
     "output_type": "execute_result"
    }
   ],
   "source": [
    "test_set = df_test.copy()\n",
    "\n",
    "predictions = model.predict(test_set[\"text\"].tolist())\n",
    "df_predictions = pd.DataFrame(\n",
    "    {'prediction': [p[0] for p in predictions[0]],\n",
    "     'confidence': [c[0] for c in predictions[1]],\n",
    "     'truth':      test_set[\"TAG\"].str.strip().tolist(),\n",
    "     'text':       test_set[\"text\"].tolist()\n",
    "    })\n",
    "df_predictions"
   ]
  },
  {
   "cell_type": "code",
   "execution_count": 16,
   "metadata": {},
   "outputs": [
    {
     "data": {
      "text/plain": [
       "<function BufferedWriter.close>"
      ]
     },
     "execution_count": 16,
     "metadata": {},
     "output_type": "execute_result"
    }
   ],
   "source": [
    "afile = open(\"/home/jovyan/work/DSA/data/fasttext/\" + \"results.pkl\", \"wb\")\n",
    "pickle.dump(df_predictions, afile)\n",
    "afile.close"
   ]
  },
  {
   "cell_type": "code",
   "execution_count": 62,
   "metadata": {},
   "outputs": [
    {
     "data": {
      "image/png": "[encoded data removed]",
      "text/plain": [
       "<Figure size 2160x720 with 2 Axes>"
      ]
     },
     "metadata": {
      "needs_background": "light"
     },
     "output_type": "display_data"
    }
   ],
   "source": [
    "y_true = df_predictions[\"truth\"]\n",
    "y_pred = df_predictions[\"prediction\"]\n",
    "report = classification_report(y_true = y_true, y_pred = y_pred, output_dict=True)\n",
    "df_report = pd.DataFrame(report).transpose()\n",
    "\n",
    "classes = df_report.index[~df_report.index.isin([\"micro avg\", \"macro avg\", \"weighted avg\"])]\n",
    "ftf.plot_confusion_matrix(y_true, y_pred, classes = classes, cmap = plt.cm.Greens, ft_size = 20, normalize = True)\n",
    "plt.show()"
   ]
  },
  {
   "cell_type": "code",
   "execution_count": 63,
   "metadata": {},
   "outputs": [
    {
     "data": {
      "text/html": [
       "<div>\n",
       "<style scoped>\n",
       "    .dataframe tbody tr th:only-of-type {\n",
       "        vertical-align: middle;\n",
       "    }\n",
       "\n",
       "    .dataframe tbody tr th {\n",
       "        vertical-align: top;\n",
       "    }\n",
       "\n",
       "    .dataframe thead th {\n",
       "        text-align: right;\n",
       "    }\n",
       "</style>\n",
       "<table border=\"1\" class=\"dataframe\">\n",
       "  <thead>\n",
       "    <tr style=\"text-align: right;\">\n",
       "      <th></th>\n",
       "      <th>precision</th>\n",
       "      <th>recall</th>\n",
       "      <th>f1-score</th>\n",
       "      <th>support</th>\n",
       "    </tr>\n",
       "  </thead>\n",
       "  <tbody>\n",
       "    <tr>\n",
       "      <th>__label__business</th>\n",
       "      <td>0.908163</td>\n",
       "      <td>0.978022</td>\n",
       "      <td>0.941799</td>\n",
       "      <td>91.000000</td>\n",
       "    </tr>\n",
       "    <tr>\n",
       "      <th>__label__entertainment</th>\n",
       "      <td>0.973333</td>\n",
       "      <td>0.890244</td>\n",
       "      <td>0.929936</td>\n",
       "      <td>82.000000</td>\n",
       "    </tr>\n",
       "    <tr>\n",
       "      <th>__label__politics</th>\n",
       "      <td>0.964706</td>\n",
       "      <td>0.942529</td>\n",
       "      <td>0.953488</td>\n",
       "      <td>87.000000</td>\n",
       "    </tr>\n",
       "    <tr>\n",
       "      <th>__label__sport</th>\n",
       "      <td>0.932692</td>\n",
       "      <td>0.979798</td>\n",
       "      <td>0.955665</td>\n",
       "      <td>99.000000</td>\n",
       "    </tr>\n",
       "    <tr>\n",
       "      <th>__label__tech</th>\n",
       "      <td>0.987952</td>\n",
       "      <td>0.953488</td>\n",
       "      <td>0.970414</td>\n",
       "      <td>86.000000</td>\n",
       "    </tr>\n",
       "    <tr>\n",
       "      <th>accuracy</th>\n",
       "      <td>0.950562</td>\n",
       "      <td>0.950562</td>\n",
       "      <td>0.950562</td>\n",
       "      <td>0.950562</td>\n",
       "    </tr>\n",
       "    <tr>\n",
       "      <th>macro avg</th>\n",
       "      <td>0.953369</td>\n",
       "      <td>0.948816</td>\n",
       "      <td>0.950261</td>\n",
       "      <td>445.000000</td>\n",
       "    </tr>\n",
       "    <tr>\n",
       "      <th>weighted avg</th>\n",
       "      <td>0.952103</td>\n",
       "      <td>0.950562</td>\n",
       "      <td>0.950513</td>\n",
       "      <td>445.000000</td>\n",
       "    </tr>\n",
       "  </tbody>\n",
       "</table>\n",
       "</div>"
      ],
      "text/plain": [
       "                        precision    recall  f1-score     support\n",
       "__label__business        0.908163  0.978022  0.941799   91.000000\n",
       "__label__entertainment   0.973333  0.890244  0.929936   82.000000\n",
       "__label__politics        0.964706  0.942529  0.953488   87.000000\n",
       "__label__sport           0.932692  0.979798  0.955665   99.000000\n",
       "__label__tech            0.987952  0.953488  0.970414   86.000000\n",
       "accuracy                 0.950562  0.950562  0.950562    0.950562\n",
       "macro avg                0.953369  0.948816  0.950261  445.000000\n",
       "weighted avg             0.952103  0.950562  0.950513  445.000000"
      ]
     },
     "metadata": {},
     "output_type": "display_data"
    }
   ],
   "source": [
    "display(df_report)"
   ]
  },
  {
   "cell_type": "code",
   "execution_count": null,
   "metadata": {},
   "outputs": [],
   "source": []
  }
 ],
 "metadata": {
  "kernelspec": {
   "display_name": "Python 3",
   "language": "python",
   "name": "python3"
  },
  "language_info": {
   "codemirror_mode": {
    "name": "ipython",
    "version": 3
   },
   "file_extension": ".py",
   "mimetype": "text/x-python",
   "name": "python",
   "nbconvert_exporter": "python",
   "pygments_lexer": "ipython3",
   "version": "3.7.1"
  }
 },
 "nbformat": 4,
 "nbformat_minor": 4
}
